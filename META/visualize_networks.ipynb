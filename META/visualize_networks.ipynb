{
 "cells": [
  {
   "cell_type": "code",
   "execution_count": 84,
   "metadata": {},
   "outputs": [
    {
     "name": "stderr",
     "output_type": "stream",
     "text": [
      "UsageError: Line magic function `%` not found.\n"
     ]
    }
   ],
   "source": [
    "% matplotlib inline \n",
    "\n",
    "import h5py, sys, io, os, numpy as np\n",
    "import nibabel as nib\n",
    "import nibabel.gifti\n",
    "import nilearn\n",
    "from nilearn import datasets, plotting\n",
    "import pandas as pd\n",
    "import numpy as np\n",
    "\n",
    "import seaborn as sns\n",
    "import matplotlib as mpl\n",
    "import matplotlib.pyplot as plt\n",
    "from matplotlib.colors import ListedColormap\n",
    "mpl.rcParams['svg.fonttype'] = 'none'"
   ]
  },
  {
   "cell_type": "code",
   "execution_count": 140,
   "metadata": {},
   "outputs": [
    {
     "name": "stdout",
     "output_type": "stream",
     "text": [
      "True\n",
      "True\n",
      "26    sub-27\n",
      "39    sub-40\n",
      "Name: sub_code, dtype: object\n",
      "['hypnose', 'meditation']\n"
     ]
    }
   ],
   "source": [
    "import pandas as pd\n",
    "\n",
    "\n",
    "sys.path.append('/home/romy.beaute/projects/hypnomed/data')\n",
    "from get_infos import get_rs_condition\n",
    "\n",
    "df_path = '/home/romy.beaute/projects/hypnomed/data/hypnomed.csv'\n",
    "df = pd.read_csv(df_path,sep=';',index_col='sub_id')\n",
    "\n",
    "#check if randomisation hypnose/meditation well balanced\n",
    "print(len(df[df['rs_run-2']=='hypnose'])==len(df[df['rs_run-2']=='meditation']))\n",
    "print(len(df[df['rs_run-3']=='hypnose'])==len(df[df['rs_run-3']=='meditation']))\n",
    "\n",
    "mri_infos = pd.read_csv('/home/romy.beaute/projects/hypnomed/data/MRI_database_extended.csv',sep=';')\n",
    "print(mri_infos[mri_infos['check_FD (>0.15)'].notna()].sub_code) #get rid of these 2 subjects\n",
    "\n",
    "\n",
    "outliers = ['sub-27','sub-32'] #list of subjects we will exclude (sub-31 does only have 2 rs)\n",
    "print([df.loc[sub]['rs_run-2'] for sub in outliers]) #les deux conditions qui sont enlevées "
   ]
  },
  {
   "cell_type": "markdown",
   "metadata": {},
   "source": [
    "- cortex = loadmat('/mnt/data/romy/hypnomed/git/data/cortex.mat')\n",
    "- template_L = surface.load_surf_data(os.path.join(template_path,'hcp.embed.grad_'+str(grad_id+1)+'.L.fsa5.func.gii'))\n",
    "- template_R = surface.load_surf_data(os.path.join(template_path,'hcp.embed.grad_'+str(grad_id+1)+'.R.fsa5.func.gii'))"
   ]
  },
  {
   "cell_type": "code",
   "execution_count": 177,
   "metadata": {},
   "outputs": [
    {
     "name": "stdout",
     "output_type": "stream",
     "text": [
      "(18715, 5)\n"
     ]
    }
   ],
   "source": [
    "from helpers_gradient import * #,load_template\n",
    "\n",
    "vol2surf_path = '/mnt/data/romy/hypnomed/git/diffusion_embedding/vol2surf_derivatives' \n",
    "# os.listdir(vol2surf_path)\n",
    "\n",
    "df_sublist = pd.read_csv('subject_list_updated.txt', header=None) #list of the subjects we have\n",
    "sublist = np.asarray(df_sublist).flatten()\n",
    "len(sublist)\n",
    "\n",
    "emb_npys = '/mnt/data/romy/hypnomed/git/diffusion_embedding/emb_outputs'\n",
    "npy_blocks = os.path.join(emb_npys,'emb_output_blocks')\n",
    "npy_states = os.path.join(emb_npys,'emb_output_states')\n",
    "\n",
    "\n",
    "template = load_template('/mnt/data/romy/hypnomed/git/data/template')\n",
    "print(template.shape) #template of the cortex (from hcp)"
   ]
  },
  {
   "cell_type": "code",
   "execution_count": 188,
   "metadata": {},
   "outputs": [
    {
     "name": "stdout",
     "output_type": "stream",
     "text": [
      "Group matrix (Blocks) succeded and saved in /home/romy.beaute/projects/hypnomed/META/embeddings/blocks_embeddings.mat\n",
      "Group matrix (States) succeded and saved in /home/romy.beaute/projects/hypnomed/META/embeddings/states_embeddings.mat\n"
     ]
    }
   ],
   "source": [
    "emb_states = []\n",
    "emb_blocks = []\n",
    "subs = []\n",
    "for sub in sublist:\n",
    "    try:\n",
    "        subs.append(sub)\n",
    "\n",
    "        #for states\n",
    "        emb_states.append(np.load(npy_states+f'/embedding_dense_emb.{sub}.ses-001.control.npy'))\n",
    "        emb_states.append(np.load(npy_states+f'/embedding_dense_emb.{sub}.ses-001.meditation.npy'))\n",
    "        emb_states.append(np.load(npy_states+f'/embedding_dense_emb.{sub}.ses-001.hypnose.npy'))\n",
    "\n",
    "        #for blocks\n",
    "        emb_blocks.append(np.load(npy_blocks+f'/embedding_dense_emb.{sub}.ses-001.rs_run-1.npy'))\n",
    "        emb_blocks.append(np.load(npy_blocks+f'/embedding_dense_emb.{sub}.ses-001.rs_run-2.npy'))\n",
    "        emb_blocks.append(np.load(npy_blocks+f'/embedding_dense_emb.{sub}.ses-001.rs_run-3.npy'))\n",
    "        #print(sub)\n",
    "    except:\n",
    "        print(sub)\n",
    "\n",
    "realigned_states = run_realign(emb_states, template)\n",
    "realigned_blocks = run_realign(emb_blocks, template)\n",
    "for i in range(5):\n",
    "    realigned_states = run_realign(realigned_states, np.asarray(np.mean(realigned_states, axis=0).squeeze()))\n",
    "    realigned_blocks = run_realign(realigned_blocks, np.asarray(np.mean(realigned_blocks, axis=0).squeeze()))\n",
    "\n",
    "emb_folder = '/home/romy.beaute/projects/hypnomed/META/embeddings'\n",
    "\n",
    "savemat(emb_folder+'/blocks_embeddings.mat', mdict={'emb': realigned_blocks, 'subs': subs})\n",
    "savemat(emb_folder+'/states_embeddings.mat', mdict={'emb': realigned_states, 'subs': subs})\n",
    "    \n",
    "fb = loadmat(emb_folder+'/blocks_embeddings.mat', mdict={'emb': realigned_blocks, 'subs': subs})\n",
    "fs = loadmat(emb_folder+'/states_embeddings.mat', mdict={'emb': realigned_states, 'subs': subs})\n",
    "\n",
    "print('Group matrix (Blocks) succeded and saved in {}'.format(emb_folder+'/blocks_embeddings.mat'))\n",
    "print('Group matrix (States) succeded and saved in {}'.format(emb_folder+'/states_embeddings.mat'))"
   ]
  },
  {
   "cell_type": "code",
   "execution_count": 158,
   "metadata": {},
   "outputs": [
    {
     "name": "stdout",
     "output_type": "stream",
     "text": [
      "['sub-01' 'sub-02' 'sub-03' 'sub-04' 'sub-05' 'sub-06' 'sub-07' 'sub-08'\n",
      " 'sub-09' 'sub-10' 'sub-11' 'sub-12' 'sub-13' 'sub-14' 'sub-15' 'sub-16'\n",
      " 'sub-17' 'sub-18' 'sub-19' 'sub-20' 'sub-21' 'sub-22' 'sub-23' 'sub-24'\n",
      " 'sub-25' 'sub-26' 'sub-27' 'sub-28' 'sub-29' 'sub-30' 'sub-31' 'sub-32'\n",
      " 'sub-33' 'sub-34' 'sub-35' 'sub-36' 'sub-37' 'sub-38' 'sub-39' 'sub-40']\n",
      "['control   ' 'meditation' 'hypnose   ']\n",
      "(119, 18715, 5)\n"
     ]
    }
   ],
   "source": [
    "from scipy.io import loadmat\n",
    "import os\n",
    "\n",
    "#/home/romy.beaute/projects/hypnomed/diffusion_embedding/emb_matrices/emb_matrices.py\n",
    "\n",
    "\n",
    "mat_folder = '/home/romy.beaute/projects/hypnomed/diffusion_embedding/emb_matrices'\n",
    "mat_file = 'group_control_meditation_hypnose_embedding.mat'\n",
    "b_all = loadmat(os.path.join(mat_folder,mat_file))\n",
    "print(b_all['subs'])\n",
    "print(b_all['states'])\n",
    "\n",
    "emb_all = b_all['emb']\n",
    "print(emb_all.shape) #(n_subjects, n_nodes, n_dims)"
   ]
  },
  {
   "cell_type": "code",
   "execution_count": 37,
   "metadata": {},
   "outputs": [
    {
     "data": {
      "text/plain": [
       "(119, 18715, 5)"
      ]
     },
     "execution_count": 37,
     "metadata": {},
     "output_type": "execute_result"
    }
   ],
   "source": [
    "emb_all.shape"
   ]
  },
  {
   "cell_type": "code",
   "execution_count": 54,
   "metadata": {},
   "outputs": [
    {
     "name": "stdout",
     "output_type": "stream",
     "text": [
      "['sub-01' 'sub-02' 'sub-03' 'sub-04' 'sub-05' 'sub-06' 'sub-07' 'sub-08'\n",
      " 'sub-09' 'sub-10' 'sub-11' 'sub-12' 'sub-13' 'sub-14' 'sub-15' 'sub-16'\n",
      " 'sub-17' 'sub-18' 'sub-19' 'sub-20' 'sub-21' 'sub-22' 'sub-23' 'sub-24'\n",
      " 'sub-25' 'sub-26' 'sub-27' 'sub-28' 'sub-29' 'sub-30' 'sub-31' 'sub-32'\n",
      " 'sub-33' 'sub-34' 'sub-35' 'sub-36' 'sub-37' 'sub-38' 'sub-39' 'sub-40']\n",
      "['meditation']\n",
      "(40, 18715, 5)\n",
      "(40, 18715)\n"
     ]
    }
   ],
   "source": [
    "mat_folder_group = '/home/romy.beaute/projects/hypnomed/diffusion_embedding/emb_matrices/group'\n",
    "state = 'meditation'\n",
    "mat_state_file = 'group_{}_embedding.mat'.format(state)\n",
    "b_state = loadmat(os.path.join(mat_folder_group,mat_state_file))\n",
    "\n",
    "print(b_state['subs'])\n",
    "print(b_state['states'])\n",
    "\n",
    "emb_state = b_state['emb']\n",
    "print(emb_state.shape) #(n_subjects, n_nodes, n_dims)\n",
    "\n",
    "pg_emb = emb_state[:,:,0] #principal (first gradient state)\n",
    "print(pg_emb.shape) #(n_subjects,n_nodes)"
   ]
  },
  {
   "cell_type": "code",
   "execution_count": 73,
   "metadata": {},
   "outputs": [
    {
     "data": {
      "text/plain": [
       "(40,)"
      ]
     },
     "execution_count": 73,
     "metadata": {},
     "output_type": "execute_result"
    }
   ],
   "source": [
    "mat_folder_group = '/home/romy.beaute/projects/hypnomed/diffusion_embedding/emb_matrices/group'\n",
    "state = 'meditation'\n",
    "mat_state_file = 'group_{}_embedding.mat'.format(state)\n",
    "\n",
    "b_cont = loadmat(os.path.join(mat_folder_group,'group_control_embedding.mat'))\n",
    "b_med = loadmat(os.path.join(mat_folder_group,'group_meditation_embedding.mat'))\n",
    "b_hyp = loadmat(os.path.join(mat_folder_group,'group_hypnose_embedding.mat'))\n",
    "\n",
    "\n",
    "b_cont['subs']\n",
    "b['subs'].shape\n",
    "# print(b_state['subs'])\n",
    "# print(b_state['states'])\n",
    "\n",
    "# emb_state = b_state['emb']\n",
    "# print(emb_state.shape) #(n_subjects, n_nodes, n_dims)\n",
    "\n",
    "# pg_emb = emb_state[:,:,0] #principal (first gradient state)\n",
    "# print(pg_emb.shape) #(n_subjects,n_nodes)"
   ]
  },
  {
   "cell_type": "code",
   "execution_count": 60,
   "metadata": {},
   "outputs": [
    {
     "data": {
      "text/plain": [
       "(18715,)"
      ]
     },
     "execution_count": 60,
     "metadata": {},
     "output_type": "execute_result"
    }
   ],
   "source": [
    "import numpy as np\n",
    "np.mean(pg_emb,axis=0).shape #mean across subject for each voxel"
   ]
  },
  {
   "cell_type": "code",
   "execution_count": 30,
   "metadata": {},
   "outputs": [
    {
     "data": {
      "text/plain": [
       "array([[ 2.19480879,  0.04865987,  0.276223  , -0.87861911,  0.64333214],\n",
       "       [ 1.16835411, -0.91160716, -1.81265838,  0.43102496,  0.72486073],\n",
       "       [ 0.16437718, -1.25434968, -0.512887  ,  0.53932573,  1.12223924],\n",
       "       ...,\n",
       "       [-0.78562915, -1.91620338,  0.13634981,  1.51188669,  1.29861025],\n",
       "       [-0.54179474, -1.84899268,  0.0621494 ,  1.82990362,  1.2103959 ],\n",
       "       [-0.24730502, -1.75434813, -0.06249908,  2.18054246,  1.16738372]])"
      ]
     },
     "execution_count": 30,
     "metadata": {},
     "output_type": "execute_result"
    }
   ],
   "source": [
    "b_state['emb'][0]"
   ]
  },
  {
   "cell_type": "code",
   "execution_count": null,
   "metadata": {},
   "outputs": [],
   "source": []
  }
 ],
 "metadata": {
  "kernelspec": {
   "display_name": "Python 3.9.12 ('base')",
   "language": "python",
   "name": "python3"
  },
  "language_info": {
   "codemirror_mode": {
    "name": "ipython",
    "version": 3
   },
   "file_extension": ".py",
   "mimetype": "text/x-python",
   "name": "python",
   "nbconvert_exporter": "python",
   "pygments_lexer": "ipython3",
   "version": "3.9.12"
  },
  "orig_nbformat": 4,
  "vscode": {
   "interpreter": {
    "hash": "8a94b534355f7828d9e38980e0a67a548ea07a966ec4471804bc83b5c8de6faf"
   }
  }
 },
 "nbformat": 4,
 "nbformat_minor": 2
}
