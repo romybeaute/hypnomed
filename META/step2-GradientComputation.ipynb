{
 "cells": [
  {
   "cell_type": "code",
   "execution_count": 1,
   "metadata": {},
   "outputs": [],
   "source": [
    "from brainspace.datasets import load_group_fc, load_parcellation, load_conte69\n",
    "import sys,ossaudiodev\n",
    "import numpy as np\n",
    "\n",
    "sys.path.append('/home/romy.beaute/projects/hypnomed/diffusion_embedding/scripts_reordered')\n",
    "sys.path.append('/mnt/data/romy/hypnomed/git/diffusion_embedding/') \n",
    "sys.path.append('/home/romy.beaute/projects/hypnomed/') \n",
    "sys.path.append('/mnt/data/romy/hypnomed/git/diffusion_embedding/data/') \n",
    "sys.path.append('/home/romy.beaute/projects/hypnomed/diffusion_embedding/data/') \n",
    "sys.path.append('/mnt/data/romy/hypnomed/git/diffusion_embedding/vol2surf_derivatives/')\n",
    "\n",
    "from load_fs import load_fs \n",
    "from pipeline import run_perc\n",
    "\n",
    "f = open('subject_list.txt','r')\n",
    "var = f.read()\n",
    "sublist = var.split('\\n')[:40]\n",
    "f.close()\n",
    "# print(sublist)\n"
   ]
  },
  {
   "cell_type": "code",
   "execution_count": 3,
   "metadata": {},
   "outputs": [
    {
     "name": "stdout",
     "output_type": "stream",
     "text": [
      "(18715, 235)\n"
     ]
    }
   ],
   "source": [
    "# CALCULATE FUNCTIONNAL CONNECTIVITY MATRIX (K) FROM NORMALIZED DATA (loaded from load_fs)\n",
    "\n",
    "\n",
    "state = 'rs_run-1'\n",
    "subject=sublist[0]\n",
    "ses='ses-001'\n",
    "\n",
    "#Step 1 : load data\n",
    "K = load_fs(subject, ses, state) #load normalized data\n",
    "print(K.shape)"
   ]
  },
  {
   "cell_type": "code",
   "execution_count": 4,
   "metadata": {},
   "outputs": [
    {
     "name": "stdout",
     "output_type": "stream",
     "text": [
      "(18715, 18715)\n"
     ]
    }
   ],
   "source": [
    "#Step 2 : Compute correlation coefficient from normalized data K\n",
    "K[np.isnan(K)] = 0.0\n",
    "\n",
    "A_mA = K - K.mean(1)[:,None] #Rowwise mean of input arrays & subtract from input arrays themeselves\n",
    "ssA = (A_mA**2).sum(1)  #Sum of squares across rows\n",
    "Asq = np.sqrt(np.dot(ssA[:,None],ssA[None]))\n",
    "Adot = A_mA.dot(A_mA.T)\n",
    "K = Adot/Asq #finally got K as the correlation coefficient (functional connectivity matrix)\n",
    "\n",
    "print(K.shape)"
   ]
  },
  {
   "cell_type": "markdown",
   "metadata": {},
   "source": [
    "## Construction of gradients"
   ]
  },
  {
   "cell_type": "code",
   "execution_count": 5,
   "metadata": {},
   "outputs": [
    {
     "name": "stderr",
     "output_type": "stream",
     "text": [
      "/home/romy.beaute/anaconda3/lib/python3.9/site-packages/brainspace/gradient/embedding.py:70: UserWarning: Affinity is not symmetric. Making symmetric.\n",
      "  warnings.warn('Affinity is not symmetric. Making symmetric.')\n"
     ]
    },
    {
     "data": {
      "text/plain": [
       "GradientMaps(n_components=5, random_state=0)"
      ]
     },
     "execution_count": 5,
     "metadata": {},
     "output_type": "execute_result"
    }
   ],
   "source": [
    "from brainspace.gradient import GradientMaps\n",
    "# help(GradientMaps)\n",
    "\n",
    "# Ask for 10 gradients (default)\n",
    "gm = GradientMaps(\n",
    "    n_components=5,\n",
    "    approach='dm', #embedding using diffusion maps\n",
    "    random_state=0)\n",
    "gm.fit(K) #gradient of connectivity matrix K"
   ]
  },
  {
   "cell_type": "code",
   "execution_count": 12,
   "metadata": {},
   "outputs": [
    {
     "data": {
      "text/plain": [
       "(18715, 5)"
      ]
     },
     "execution_count": 12,
     "metadata": {},
     "output_type": "execute_result"
    }
   ],
   "source": [
    "gm.gradients_.shape \n",
    "gm.gradients_[:, 0].shape #1st gradient"
   ]
  },
  {
   "cell_type": "code",
   "execution_count": 7,
   "metadata": {},
   "outputs": [
    {
     "name": "stderr",
     "output_type": "stream",
     "text": [
      "/home/romy.beaute/projects/hypnomed/diffusion_embedding/scripts_reordered/pipeline.py:41: NumbaWarning: \u001b[1m\n",
      "Compilation is falling back to object mode WITH looplifting enabled because Function \"run_perc\" failed type inference due to: \u001b[1m\u001b[1mNo implementation of function Function(<built-in function setitem>) found for signature:\n",
      " \n",
      " >>> setitem(array(float32, 2d, C), Tuple(int64, array(bool, 1d, C)), float64)\n",
      " \n",
      "There are 16 candidate implementations:\n",
      "\u001b[1m   - Of which 14 did not match due to:\n",
      "   Overload of function 'setitem': File: <numerous>: Line N/A.\n",
      "     With argument(s): '(array(float32, 2d, C), Tuple(int64, array(bool, 1d, C)), float64)':\u001b[0m\n",
      "\u001b[1m    No match.\u001b[0m\n",
      "\u001b[1m   - Of which 2 did not match due to:\n",
      "   Overload in function 'SetItemBuffer.generic': File: numba/core/typing/arraydecl.py: Line 176.\n",
      "     With argument(s): '(array(float32, 2d, C), Tuple(int64, array(bool, 1d, C)), float64)':\u001b[0m\n",
      "\u001b[1m    Rejected as the implementation raised a specific error:\n",
      "      NumbaNotImplementedError: \u001b[1monly one advanced index supported\u001b[0m\u001b[0m\n",
      "  raised from /home/romy.beaute/anaconda3/lib/python3.9/site-packages/numba/core/typing/arraydecl.py:69\n",
      "\u001b[0m\n",
      "\u001b[0m\u001b[1mDuring: typing of setitem at /home/romy.beaute/projects/hypnomed/diffusion_embedding/scripts_reordered/pipeline.py (46)\u001b[0m\n",
      "\u001b[1m\n",
      "File \"../diffusion_embedding/scripts_reordered/pipeline.py\", line 46:\u001b[0m\n",
      "\u001b[1mdef run_perc(data, thresh):\n",
      "    <source elided>\n",
      "    for n,i in enumerate(data):\n",
      "\u001b[1m        data[n, i < np.percentile(i, thresh)] = 0. #values under the connection threshold (<top 10%) are zeroed\n",
      "\u001b[0m        \u001b[1m^\u001b[0m\u001b[0m\n",
      "\u001b[0m\n",
      "  @jit(parallel=True)\n",
      "/home/romy.beaute/projects/hypnomed/diffusion_embedding/scripts_reordered/pipeline.py:41: NumbaWarning: \u001b[1m\n",
      "Compilation is falling back to object mode WITHOUT looplifting enabled because Function \"run_perc\" failed type inference due to: \u001b[1m\u001b[1mCannot determine Numba type of <class 'numba.core.dispatcher.LiftedLoop'>\u001b[0m\n",
      "\u001b[1m\n",
      "File \"../diffusion_embedding/scripts_reordered/pipeline.py\", line 45:\u001b[0m\n",
      "\u001b[1mdef run_perc(data, thresh):\n",
      "    <source elided>\n",
      "    # Threshold each row of the matrix by setting values below 90th percentile to 0\n",
      "\u001b[1m    for n,i in enumerate(data):\n",
      "\u001b[0m    \u001b[1m^\u001b[0m\u001b[0m\n",
      "\u001b[0m\u001b[0m\n",
      "  @jit(parallel=True)\n",
      "/home/romy.beaute/anaconda3/lib/python3.9/site-packages/numba/core/object_mode_passes.py:151: NumbaWarning: \u001b[1mFunction \"run_perc\" was compiled in object mode without forceobj=True, but has lifted loops.\n",
      "\u001b[1m\n",
      "File \"../diffusion_embedding/scripts_reordered/pipeline.py\", line 43:\u001b[0m\n",
      "\u001b[1mdef run_perc(data, thresh):\n",
      "\u001b[1m    perc_all = np.zeros(data.shape[0])\n",
      "\u001b[0m    \u001b[1m^\u001b[0m\u001b[0m\n",
      "\u001b[0m\n",
      "  warnings.warn(errors.NumbaWarning(warn_msg,\n",
      "/home/romy.beaute/anaconda3/lib/python3.9/site-packages/numba/core/object_mode_passes.py:161: NumbaDeprecationWarning: \u001b[1m\n",
      "Fall-back from the nopython compilation path to the object mode compilation path has been detected, this is deprecated behaviour.\n",
      "\n",
      "For more information visit https://numba.readthedocs.io/en/stable/reference/deprecation.html#deprecation-of-object-mode-fall-back-behaviour-when-using-jit\n",
      "\u001b[1m\n",
      "File \"../diffusion_embedding/scripts_reordered/pipeline.py\", line 43:\u001b[0m\n",
      "\u001b[1mdef run_perc(data, thresh):\n",
      "\u001b[1m    perc_all = np.zeros(data.shape[0])\n",
      "\u001b[0m    \u001b[1m^\u001b[0m\u001b[0m\n",
      "\u001b[0m\n",
      "  warnings.warn(errors.NumbaDeprecationWarning(msg,\n",
      "/home/romy.beaute/projects/hypnomed/diffusion_embedding/scripts_reordered/pipeline.py:41: NumbaWarning: \u001b[1m\n",
      "Compilation is falling back to object mode WITHOUT looplifting enabled because Function \"run_perc\" failed type inference due to: \u001b[1m\u001b[1mnon-precise type pyobject\u001b[0m\n",
      "\u001b[0m\u001b[1mDuring: typing of argument at /home/romy.beaute/projects/hypnomed/diffusion_embedding/scripts_reordered/pipeline.py (45)\u001b[0m\n",
      "\u001b[1m\n",
      "File \"../diffusion_embedding/scripts_reordered/pipeline.py\", line 45:\u001b[0m\n",
      "\u001b[1mdef run_perc(data, thresh):\n",
      "    <source elided>\n",
      "    # Threshold each row of the matrix by setting values below 90th percentile to 0\n",
      "\u001b[1m    for n,i in enumerate(data):\n",
      "\u001b[0m    \u001b[1m^\u001b[0m\u001b[0m\n",
      "\u001b[0m\n",
      "  @jit(parallel=True)\n",
      "/home/romy.beaute/anaconda3/lib/python3.9/site-packages/numba/core/object_mode_passes.py:151: NumbaWarning: \u001b[1mFunction \"run_perc\" was compiled in object mode without forceobj=True.\n",
      "\u001b[1m\n",
      "File \"../diffusion_embedding/scripts_reordered/pipeline.py\", line 45:\u001b[0m\n",
      "\u001b[1mdef run_perc(data, thresh):\n",
      "    <source elided>\n",
      "    # Threshold each row of the matrix by setting values below 90th percentile to 0\n",
      "\u001b[1m    for n,i in enumerate(data):\n",
      "\u001b[0m    \u001b[1m^\u001b[0m\u001b[0m\n",
      "\u001b[0m\n",
      "  warnings.warn(errors.NumbaWarning(warn_msg,\n",
      "/home/romy.beaute/anaconda3/lib/python3.9/site-packages/numba/core/object_mode_passes.py:161: NumbaDeprecationWarning: \u001b[1m\n",
      "Fall-back from the nopython compilation path to the object mode compilation path has been detected, this is deprecated behaviour.\n",
      "\n",
      "For more information visit https://numba.readthedocs.io/en/stable/reference/deprecation.html#deprecation-of-object-mode-fall-back-behaviour-when-using-jit\n",
      "\u001b[1m\n",
      "File \"../diffusion_embedding/scripts_reordered/pipeline.py\", line 45:\u001b[0m\n",
      "\u001b[1mdef run_perc(data, thresh):\n",
      "    <source elided>\n",
      "    # Threshold each row of the matrix by setting values below 90th percentile to 0\n",
      "\u001b[1m    for n,i in enumerate(data):\n",
      "\u001b[0m    \u001b[1m^\u001b[0m\u001b[0m\n",
      "\u001b[0m\n",
      "  warnings.warn(errors.NumbaDeprecationWarning(msg,\n",
      "/home/romy.beaute/projects/hypnomed/diffusion_embedding/scripts_reordered/pipeline.py:41: NumbaWarning: \u001b[1m\n",
      "Compilation is falling back to object mode WITHOUT looplifting enabled because Function \"run_perc\" failed type inference due to: \u001b[1m\u001b[1mNo implementation of function Function(<built-in function setitem>) found for signature:\n",
      " \n",
      " >>> setitem(array(float32, 2d, C), Tuple(int64, array(bool, 1d, C)), float64)\n",
      " \n",
      "There are 16 candidate implementations:\n",
      "\u001b[1m      - Of which 14 did not match due to:\n",
      "      Overload of function 'setitem': File: <numerous>: Line N/A.\n",
      "        With argument(s): '(array(float32, 2d, C), Tuple(int64, array(bool, 1d, C)), float64)':\u001b[0m\n",
      "\u001b[1m       No match.\u001b[0m\n",
      "\u001b[1m      - Of which 2 did not match due to:\n",
      "      Overload in function 'SetItemBuffer.generic': File: numba/core/typing/arraydecl.py: Line 176.\n",
      "        With argument(s): '(array(float32, 2d, C), Tuple(int64, array(bool, 1d, C)), float64)':\u001b[0m\n",
      "\u001b[1m       Rejected as the implementation raised a specific error:\n",
      "         NumbaNotImplementedError: \u001b[1monly one advanced index supported\u001b[0m\u001b[0m\n",
      "  raised from /home/romy.beaute/anaconda3/lib/python3.9/site-packages/numba/core/typing/arraydecl.py:69\n",
      "\u001b[0m\n",
      "\u001b[0m\u001b[1mDuring: typing of setitem at /home/romy.beaute/projects/hypnomed/diffusion_embedding/scripts_reordered/pipeline.py (48)\u001b[0m\n",
      "\u001b[1m\n",
      "File \"../diffusion_embedding/scripts_reordered/pipeline.py\", line 48:\u001b[0m\n",
      "\u001b[1mdef run_perc(data, thresh):\n",
      "    <source elided>\n",
      "    for n,i in enumerate(data):\n",
      "\u001b[1m        data[n, i < 0.] = 0. #zeroed the rest of voxels with negative connections\n",
      "\u001b[0m        \u001b[1m^\u001b[0m\u001b[0m\n",
      "\u001b[0m\n",
      "  @jit(parallel=True)\n",
      "/home/romy.beaute/anaconda3/lib/python3.9/site-packages/numba/core/object_mode_passes.py:151: NumbaWarning: \u001b[1mFunction \"run_perc\" was compiled in object mode without forceobj=True.\n",
      "\u001b[1m\n",
      "File \"../diffusion_embedding/scripts_reordered/pipeline.py\", line 47:\u001b[0m\n",
      "\u001b[1mdef run_perc(data, thresh):\n",
      "    <source elided>\n",
      "        data[n, i < np.percentile(i, thresh)] = 0. #values under the connection threshold (<top 10%) are zeroed\n",
      "\u001b[1m    for n,i in enumerate(data):\n",
      "\u001b[0m    \u001b[1m^\u001b[0m\u001b[0m\n",
      "\u001b[0m\n",
      "  warnings.warn(errors.NumbaWarning(warn_msg,\n",
      "/home/romy.beaute/anaconda3/lib/python3.9/site-packages/numba/core/object_mode_passes.py:161: NumbaDeprecationWarning: \u001b[1m\n",
      "Fall-back from the nopython compilation path to the object mode compilation path has been detected, this is deprecated behaviour.\n",
      "\n",
      "For more information visit https://numba.readthedocs.io/en/stable/reference/deprecation.html#deprecation-of-object-mode-fall-back-behaviour-when-using-jit\n",
      "\u001b[1m\n",
      "File \"../diffusion_embedding/scripts_reordered/pipeline.py\", line 47:\u001b[0m\n",
      "\u001b[1mdef run_perc(data, thresh):\n",
      "    <source elided>\n",
      "        data[n, i < np.percentile(i, thresh)] = 0. #values under the connection threshold (<top 10%) are zeroed\n",
      "\u001b[1m    for n,i in enumerate(data):\n",
      "\u001b[0m    \u001b[1m^\u001b[0m\u001b[0m\n",
      "\u001b[0m\n",
      "  warnings.warn(errors.NumbaDeprecationWarning(msg,\n"
     ]
    }
   ],
   "source": [
    "\n",
    "del A_mA, ssA, Asq, Adot\n",
    "\n",
    "#Step 3 : Transformation z --> r correlations (scales values b/w [-1;1]\n",
    "K = run_perc(K, 90) #threshold to keep only top 10% connections\n",
    "\n",
    "#Step 4 : Compute similarity between all pairs of rows using cosine distance (resulting in positive, symmetrix affinity matrix aff)\n",
    "norm = (K * K).sum(0, keepdims=True) ** .5 \n",
    "K = K.T @ K #numerator (dot product)\n",
    "aff = K / norm / norm.T #similarities (full affinity matrix) shape = (n_samples, n_samples)\n",
    "# del norm, K"
   ]
  },
  {
   "cell_type": "code",
   "execution_count": 8,
   "metadata": {},
   "outputs": [
    {
     "data": {
      "text/plain": [
       "array([[1.0000007 , 0.6878626 , 0.57642335, ..., 0.03612815, 0.00788714,\n",
       "        0.        ],\n",
       "       [0.6878625 , 0.9999991 , 0.8106227 , ..., 0.09799708, 0.03811562,\n",
       "        0.00349577],\n",
       "       [0.5764233 , 0.81062263, 1.0000011 , ..., 0.20091775, 0.10557379,\n",
       "        0.02270358],\n",
       "       ...,\n",
       "       [0.03612815, 0.09799708, 0.20091775, ..., 1.0000012 , 0.8942442 ,\n",
       "        0.8091196 ],\n",
       "       [0.00788714, 0.03811562, 0.1055738 , ..., 0.89424425, 0.9999999 ,\n",
       "        0.9115472 ],\n",
       "       [0.        , 0.00349577, 0.02270358, ..., 0.8091196 , 0.9115471 ,\n",
       "        1.0000001 ]], dtype=float32)"
      ]
     },
     "execution_count": 8,
     "metadata": {},
     "output_type": "execute_result"
    }
   ],
   "source": [
    "aff"
   ]
  },
  {
   "cell_type": "code",
   "execution_count": 11,
   "metadata": {},
   "outputs": [
    {
     "data": {
      "text/plain": [
       "(18715, 18715)"
      ]
     },
     "execution_count": 11,
     "metadata": {},
     "output_type": "execute_result"
    }
   ],
   "source": [
    "aff.shape"
   ]
  },
  {
   "cell_type": "code",
   "execution_count": 9,
   "metadata": {},
   "outputs": [
    {
     "ename": "NameError",
     "evalue": "name 'embed' is not defined",
     "output_type": "error",
     "traceback": [
      "\u001b[0;31m---------------------------------------------------------------------------\u001b[0m",
      "\u001b[0;31mNameError\u001b[0m                                 Traceback (most recent call last)",
      "\u001b[1;32m/home/romy.beaute/projects/hypnomed/META/step2-GradientComputation.ipynb Cell 9\u001b[0m in \u001b[0;36m<cell line: 1>\u001b[0;34m()\u001b[0m\n\u001b[0;32m----> <a href='vscode-notebook-cell://ssh-remote%2B10.69.168.62/home/romy.beaute/projects/hypnomed/META/step2-GradientComputation.ipynb#X10sdnNjb2RlLXJlbW90ZQ%3D%3D?line=0'>1</a>\u001b[0m emb, res \u001b[39m=\u001b[39m embed\u001b[39m.\u001b[39mcompute_diffusion_map(aff, alpha \u001b[39m=\u001b[39m \u001b[39m0.5\u001b[39m, n_components\u001b[39m=\u001b[39m\u001b[39m5\u001b[39m, skip_checks\u001b[39m=\u001b[39m\u001b[39mTrue\u001b[39;00m, overwrite\u001b[39m=\u001b[39m\u001b[39mTrue\u001b[39;00m, eigen_solver\u001b[39m=\u001b[39meigsh, return_result\u001b[39m=\u001b[39m\u001b[39mTrue\u001b[39;00m)\n",
      "\u001b[0;31mNameError\u001b[0m: name 'embed' is not defined"
     ]
    }
   ],
   "source": [
    "emb, res = embed.compute_diffusion_map(aff, alpha = 0.5, n_components=5, skip_checks=True, overwrite=True, eigen_solver=eigsh, return_result=True) #Compute the diffusion maps of a symmetric similarity matrix\n",
    "# del aff"
   ]
  },
  {
   "cell_type": "code",
   "execution_count": null,
   "metadata": {},
   "outputs": [
    {
     "ename": "FileNotFoundError",
     "evalue": "No such file or no access: '/mnt/data/romy/hypnomed/git/diffusion_embedding/vol2surf_derivatives/sub-01/ses-001/sub-01_ses-001_task-control.fsa5.lh.mgz'",
     "output_type": "error",
     "traceback": [
      "\u001b[0;31m---------------------------------------------------------------------------\u001b[0m",
      "\u001b[0;31mFileNotFoundError\u001b[0m                         Traceback (most recent call last)",
      "File \u001b[0;32m~/anaconda3/lib/python3.9/site-packages/nibabel/loadsave.py:42\u001b[0m, in \u001b[0;36mload\u001b[0;34m(filename, **kwargs)\u001b[0m\n\u001b[1;32m     41\u001b[0m \u001b[39mtry\u001b[39;00m:\n\u001b[0;32m---> 42\u001b[0m     stat_result \u001b[39m=\u001b[39m os\u001b[39m.\u001b[39;49mstat(filename)\n\u001b[1;32m     43\u001b[0m \u001b[39mexcept\u001b[39;00m \u001b[39mOSError\u001b[39;00m:\n",
      "\u001b[0;31mFileNotFoundError\u001b[0m: [Errno 2] No such file or directory: '/mnt/data/romy/hypnomed/git/diffusion_embedding/vol2surf_derivatives/sub-01/ses-001/sub-01_ses-001_task-control.fsa5.lh.mgz'",
      "\nDuring handling of the above exception, another exception occurred:\n",
      "\u001b[0;31mFileNotFoundError\u001b[0m                         Traceback (most recent call last)",
      "\u001b[1;32m/home/romy.beaute/projects/hypnomed/META/step2-GradientComputation.ipynb Cell 3\u001b[0m in \u001b[0;36m<cell line: 2>\u001b[0;34m()\u001b[0m\n\u001b[1;32m      <a href='vscode-notebook-cell://ssh-remote%2B10.69.168.62/home/romy.beaute/projects/hypnomed/META/step2-GradientComputation.ipynb#W6sdnNjb2RlLXJlbW90ZQ%3D%3D?line=0'>1</a>\u001b[0m state \u001b[39m=\u001b[39m \u001b[39m'\u001b[39m\u001b[39mcontrol\u001b[39m\u001b[39m'\u001b[39m\n\u001b[0;32m----> <a href='vscode-notebook-cell://ssh-remote%2B10.69.168.62/home/romy.beaute/projects/hypnomed/META/step2-GradientComputation.ipynb#W6sdnNjb2RlLXJlbW90ZQ%3D%3D?line=1'>2</a>\u001b[0m data \u001b[39m=\u001b[39m load_fs(subject\u001b[39m=\u001b[39;49msublist[\u001b[39m0\u001b[39;49m], ses\u001b[39m=\u001b[39;49m\u001b[39m'\u001b[39;49m\u001b[39mses-001\u001b[39;49m\u001b[39m'\u001b[39;49m, state\u001b[39m=\u001b[39;49mstate)\n",
      "File \u001b[0;32m~/projects/hypnomed/diffusion_embedding/scripts_reordered/load_fs.py:28\u001b[0m, in \u001b[0;36mload_fs\u001b[0;34m(subject, ses, state)\u001b[0m\n\u001b[1;32m     25\u001b[0m label \u001b[39m=\u001b[39m []\n\u001b[1;32m     26\u001b[0m \u001b[39mfor\u001b[39;00m h \u001b[39min\u001b[39;00m [\u001b[39m'\u001b[39m\u001b[39mlh\u001b[39m\u001b[39m'\u001b[39m,\u001b[39m'\u001b[39m\u001b[39mrh\u001b[39m\u001b[39m'\u001b[39m]: \u001b[39m#order of hemisphere is important !\u001b[39;00m\n\u001b[1;32m     27\u001b[0m     \u001b[39m#loop through hemispheres\u001b[39;00m\n\u001b[0;32m---> 28\u001b[0m     data\u001b[39m.\u001b[39mappend(nib\u001b[39m.\u001b[39;49mload(\u001b[39mf\u001b[39;49m\u001b[39m'\u001b[39;49m\u001b[39m{\u001b[39;49;00mvol2surf_path\u001b[39m}\u001b[39;49;00m\u001b[39m/\u001b[39;49m\u001b[39m{\u001b[39;49;00msubject\u001b[39m}\u001b[39;49;00m\u001b[39m/\u001b[39;49m\u001b[39m{\u001b[39;49;00mses\u001b[39m}\u001b[39;49;00m\u001b[39m/\u001b[39;49m\u001b[39m{\u001b[39;49;00msubject\u001b[39m}\u001b[39;49;00m\u001b[39m_\u001b[39;49m\u001b[39m{\u001b[39;49;00mses\u001b[39m}\u001b[39;49;00m\u001b[39m_task-\u001b[39;49m\u001b[39m{\u001b[39;49;00mstate\u001b[39m}\u001b[39;49;00m\u001b[39m.fsa5.\u001b[39;49m\u001b[39m{\u001b[39;49;00mh\u001b[39m}\u001b[39;49;00m\u001b[39m.mgz\u001b[39;49m\u001b[39m'\u001b[39;49m)\u001b[39m.\u001b[39mget_data()\u001b[39m.\u001b[39msqueeze())\n\u001b[1;32m     29\u001b[0m     label\u001b[39m.\u001b[39mappend(nib\u001b[39m.\u001b[39mfreesurfer\u001b[39m.\u001b[39mread_label(\u001b[39mf\u001b[39m\u001b[39m'\u001b[39m\u001b[39m{\u001b[39;00mfreesurfer_output\u001b[39m}\u001b[39;00m\u001b[39m/fsaverage5/label/\u001b[39m\u001b[39m{\u001b[39;00mh\u001b[39m}\u001b[39;00m\u001b[39m.cortex.label\u001b[39m\u001b[39m'\u001b[39m))\n\u001b[1;32m     31\u001b[0m data \u001b[39m=\u001b[39m np\u001b[39m.\u001b[39mvstack((data[\u001b[39m0\u001b[39m][label[\u001b[39m0\u001b[39m],:],data[\u001b[39m1\u001b[39m][label[\u001b[39m1\u001b[39m],:])) \u001b[39m#concatenation 2 hemispheres (timeseries data)\u001b[39;00m\n",
      "File \u001b[0;32m~/anaconda3/lib/python3.9/site-packages/nibabel/loadsave.py:44\u001b[0m, in \u001b[0;36mload\u001b[0;34m(filename, **kwargs)\u001b[0m\n\u001b[1;32m     42\u001b[0m     stat_result \u001b[39m=\u001b[39m os\u001b[39m.\u001b[39mstat(filename)\n\u001b[1;32m     43\u001b[0m \u001b[39mexcept\u001b[39;00m \u001b[39mOSError\u001b[39;00m:\n\u001b[0;32m---> 44\u001b[0m     \u001b[39mraise\u001b[39;00m \u001b[39mFileNotFoundError\u001b[39;00m(\u001b[39mf\u001b[39m\u001b[39m\"\u001b[39m\u001b[39mNo such file or no access: \u001b[39m\u001b[39m'\u001b[39m\u001b[39m{\u001b[39;00mfilename\u001b[39m}\u001b[39;00m\u001b[39m'\u001b[39m\u001b[39m\"\u001b[39m)\n\u001b[1;32m     45\u001b[0m \u001b[39mif\u001b[39;00m stat_result\u001b[39m.\u001b[39mst_size \u001b[39m<\u001b[39m\u001b[39m=\u001b[39m \u001b[39m0\u001b[39m:\n\u001b[1;32m     46\u001b[0m     \u001b[39mraise\u001b[39;00m ImageFileError(\u001b[39mf\u001b[39m\u001b[39m\"\u001b[39m\u001b[39mEmpty file: \u001b[39m\u001b[39m'\u001b[39m\u001b[39m{\u001b[39;00mfilename\u001b[39m}\u001b[39;00m\u001b[39m'\u001b[39m\u001b[39m\"\u001b[39m)\n",
      "\u001b[0;31mFileNotFoundError\u001b[0m: No such file or no access: '/mnt/data/romy/hypnomed/git/diffusion_embedding/vol2surf_derivatives/sub-01/ses-001/sub-01_ses-001_task-control.fsa5.lh.mgz'"
     ]
    }
   ],
   "source": [
    "\n",
    "data = "
   ]
  },
  {
   "cell_type": "code",
   "execution_count": null,
   "metadata": {},
   "outputs": [],
   "source": []
  }
 ],
 "metadata": {
  "kernelspec": {
   "display_name": "Python 3.9.12 ('base')",
   "language": "python",
   "name": "python3"
  },
  "language_info": {
   "codemirror_mode": {
    "name": "ipython",
    "version": 3
   },
   "file_extension": ".py",
   "mimetype": "text/x-python",
   "name": "python",
   "nbconvert_exporter": "python",
   "pygments_lexer": "ipython3",
   "version": "3.9.12"
  },
  "orig_nbformat": 4,
  "vscode": {
   "interpreter": {
    "hash": "8a94b534355f7828d9e38980e0a67a548ea07a966ec4471804bc83b5c8de6faf"
   }
  }
 },
 "nbformat": 4,
 "nbformat_minor": 2
}
