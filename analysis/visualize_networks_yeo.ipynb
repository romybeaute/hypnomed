{
  "cells": [
    {
      "cell_type": "markdown",
      "metadata": {
        "id": "qCQxAqT4jrd3"
      },
      "source": [
        "[link script](https://nbviewer.org/github/NeuroanatomyAndConnectivity/gradient_analysis/blob/master/04_visualize_networks.ipynb)"
      ]
    },
    {
      "cell_type": "code",
      "execution_count": 2,
      "metadata": {
        "colab": {
          "base_uri": "https://localhost:8080/"
        },
        "id": "bNjcUB9UcMrh",
        "outputId": "9377c529-212e-494e-cf9b-021abf563f28"
      },
      "outputs": [
        {
          "name": "stdout",
          "output_type": "stream",
          "text": [
            "Clonage dans 'gradient_analysis'...\n",
            "remote: Enumerating objects: 196, done.\u001b[K\n",
            "remote: Total 196 (delta 0), reused 0 (delta 0), pack-reused 196\u001b[K\n",
            "Réception d'objets: 100% (196/196), 44.35 Mio | 9.90 Mio/s, fait.\n",
            "Résolution des deltas: 100% (56/56), fait.\n",
            "Mise à jour des fichiers: 100% (49/49), fait.\n"
          ]
        }
      ],
      "source": [
        "# % matplotlib inline \n",
        "\n",
        "# !git clone https://github.com/margulies/gradient_analysis\n",
        "\n",
        "import h5py, sys, io, numpy as np\n",
        "import nibabel as nib\n",
        "import nibabel.gifti\n",
        "import nilearn\n",
        "from nilearn import datasets, plotting\n",
        "import pandas as pd\n",
        "import numpy as np\n",
        "\n",
        "import seaborn as sns\n",
        "import matplotlib as mpl\n",
        "import matplotlib.pyplot as plt\n",
        "from matplotlib.colors import ListedColormap\n",
        "mpl.rcParams['svg.fonttype'] = 'none'"
      ]
    },
    {
      "cell_type": "code",
      "execution_count": 21,
      "metadata": {
        "colab": {
          "base_uri": "https://localhost:8080/"
        },
        "id": "RWyVXoDaVIl9",
        "outputId": "af3a644d-4671-439a-e459-e0ff0393e57d"
      },
      "outputs": [
        {
          "name": "stdout",
          "output_type": "stream",
          "text": [
            "Cloning into 'cerebellum_gradients'...\n",
            "remote: Enumerating objects: 230, done.\u001b[K\n",
            "remote: Total 230 (delta 0), reused 0 (delta 0), pack-reused 230\u001b[K\n",
            "Receiving objects: 100% (230/230), 11.59 MiB | 6.79 MiB/s, done.\n",
            "Resolving deltas: 100% (122/122), done.\n"
          ]
        }
      ],
      "source": [
        "# !git clone https://github.com/gablab/cerebellum_gradients/"
      ]
    },
    {
      "cell_type": "code",
      "execution_count": 6,
      "metadata": {
        "colab": {
          "base_uri": "https://localhost:8080/"
        },
        "id": "w22xUBSZc4s0",
        "outputId": "5be834ba-4142-4b36-8d9f-59aad6fd5d03"
      },
      "outputs": [],
      "source": [
        "import sys\n",
        "# sys.path.append('/content/gradient_analysis/gradient_data/templates')\n",
        "templates_path = '/home/romy.beaute/projects/hypnomed/data/template'\n",
        "templates_marguilies = '/home/romy.beaute/projects/hypnomed/analysis/gradient_analysis/gradient_data/templates'"
      ]
    },
    {
      "cell_type": "code",
      "execution_count": 4,
      "metadata": {
        "id": "cwC8b_VScS2u"
      },
      "outputs": [],
      "source": [
        "\n",
        "def imageCrop(filename):\n",
        "\n",
        "    from PIL import Image\n",
        "\n",
        "    i1 = Image.open(filename)\n",
        "    i2 = np.array(i1)\n",
        "    i2[i2.sum(axis=2) == 255*4,:] = 0\n",
        "    i3 = i2.sum(axis=2)\n",
        "    x = np.where((i3.sum(axis=1) != 0) * 1)[0]\n",
        "    y = np.where((i3.sum(axis=0) != 0) * 1)[0]\n",
        "\n",
        "    result = Image.fromarray(i2[x.squeeze()][:,y.squeeze()])\n",
        "    result.save(filename)"
      ]
    },
    {
      "cell_type": "code",
      "execution_count": 7,
      "metadata": {
        "id": "nsDwru-8cdfG"
      },
      "outputs": [
        {
          "name": "stderr",
          "output_type": "stream",
          "text": [
            "pixdim[1,2,3] should be non-zero; setting 0 dims to 1\n",
            "pixdim[1,2,3] should be non-zero; setting 0 dims to 1\n",
            "pixdim[1,2,3] should be non-zero; setting 0 dims to 1\n",
            "pixdim[1,2,3] should be non-zero; setting 0 dims to 1\n"
          ]
        }
      ],
      "source": [
        "\n",
        "surfmL = nib.freesurfer.read_geometry(templates_marguilies+'/Q1-Q6_R440.L.midthickness.32k_fs_LR.surf')\n",
        "surfiL = nib.freesurfer.read_geometry(templates_marguilies+'/Q1-Q6_R440.L.very_inflated.32k_fs_LR.surf')\n",
        "surfL = []\n",
        "surfL.append(np.array(surfmL[0]*0.3 + surfiL[0]*0.7))\n",
        "surfL.append(surfmL[1])\n",
        "\n",
        "surfmR = nib.freesurfer.read_geometry(templates_marguilies+'/Q1-Q6_R440.R.midthickness.32k_fs_LR.surf')\n",
        "surfiR = nib.freesurfer.read_geometry(templates_marguilies+'/Q1-Q6_R440.R.very_inflated.32k_fs_LR.surf')\n",
        "surfR = []\n",
        "surfR.append(np.array(surfmR[0]*0.3 + surfiR[0]*0.7))\n",
        "surfR.append(surfmR[1])\n",
        "\n",
        "\n",
        "sulcL = -1 * nib.load(templates_marguilies+'/Q1-Q6_R440.sulc.32k_fs_LR.dscalar.nii').get_fdata()[0:32492]\n",
        "sulcR = -1 * nib.load(templates_marguilies+'/Q1-Q6_R440.sulc.32k_fs_LR.dscalar.nii').get_fdata()[32492:32492*2]\n",
        "\n",
        "# res = nib.load(templates_path+'/hcp.tmp.lh.dscalar.nii').get_fdata()\n",
        "res = nib.load(templates_path+'/hcp.tmp.lh.dscalar.nii').get_fdata()\n",
        "cortL = np.squeeze(np.array(np.where(res != 0)[1],dtype=np.int32))\n",
        "# res = nib.load(templates_path+'/hcp.tmp.rh.dscalar.nii').get_fdata()\n",
        "res = nib.load(templates_path+'/hcp.tmp.rh.dscalar.nii').get_fdata()\n",
        "cortR = np.squeeze(np.array(np.where(res != 0)[1], dtype=np.int32))\n",
        "cortLen = len(cortL) + len(cortR)\n",
        "del res"
      ]
    },
    {
      "cell_type": "code",
      "execution_count": 33,
      "metadata": {
        "colab": {
          "base_uri": "https://localhost:8080/"
        },
        "id": "DF47MP86jBvl",
        "outputId": "a48d715a-ac95-47c2-b0b8-2c3e345b3e1d"
      },
      "outputs": [
        {
          "name": "stdout",
          "output_type": "stream",
          "text": [
            " - shape embedding (n_subjects, n_voxels, n_dims): (119, 18715, 5)\n",
            " - n = 40 subjects\n",
            " - condition : ['control   ' 'meditation' 'hypnose   ']\n",
            " - path : /home/romy.beaute/projects/hypnomed/data/emb_matrices/group_control_meditation_hypnose_embedding.mat\n",
            "\n"
          ]
        }
      ],
      "source": [
        "import sys\n",
        "sys.path.append('/home/romy.beaute/projects/hypnomed/META/')\n",
        "from scipy.io import loadmat\n",
        "from helpers_gradient import *\n",
        "\n",
        "embmat_path = '/home/romy.beaute/projects/hypnomed/data/emb_matrices'\n",
        "matfile = 'control_meditation_hypnose'\n",
        "# emb = np.load(embmat_path+'/group_{}_embedding.mat'.format(matfile))\n",
        "\n",
        "b,b_emb = load_embmat(embmat_path+'/group_{}_embedding.mat'.format(matfile),show_infos=True)\n",
        "b_emb.shape\n",
        "\n",
        "emb_con = b_emb[:40]\n",
        "emb_med = b_emb[40:80]\n",
        "emb_hyp = b_emb[80:]\n",
        "\n",
        "embeddings = {\n",
        "    'control':emb_con,\n",
        "    'meditation':emb_med,\n",
        "    'hypnose':emb_hyp\n",
        "    }"
      ]
    },
    {
      "cell_type": "code",
      "execution_count": 21,
      "metadata": {
        "id": "wZELyG6ps-sK"
      },
      "outputs": [
        {
          "name": "stderr",
          "output_type": "stream",
          "text": [
            "/home/romy.beaute/anaconda3/lib/python3.9/site-packages/nilearn/surface/surface.py:671: VisibleDeprecationWarning: Creating an ndarray from ragged nested sequences (which is a list-or-tuple of lists-or-tuples-or ndarrays with different lengths or shapes) is deprecated. If you meant to do this, you must specify 'dtype=object' when creating the ndarray.\n",
            "  return np.asarray([arr.data for arr in gifti_img.darrays]).T.squeeze()\n"
          ]
        }
      ],
      "source": [
        "from nilearn import surface\n",
        "\n",
        "\n",
        "fsaverage = datasets.fetch_surf_fsaverage()\n",
        "\n",
        "nilearn.datasets.fetch_surf_fsaverage(mesh='fsaverage5', data_dir=None).sulc_left\n",
        "\n",
        "sulc_l = surface.load_surf_data(fsaverage['sulc_left'])\n",
        "sulc_r = 10242+surface.load_surf_data(fsaverage['sulc_right'])\n",
        "\n",
        "surf_l = surface.load_surf_data(fsaverage['infl_left']) #infl_left\n",
        "surf_r = 10242+surface.load_surf_data(fsaverage['infl_right']) #infl_right\n",
        "# nilearn.datasets.fetch_surf_fsaverage(mesh='fsaverage5', data_dir=None).sulc_left\n"
      ]
    },
    {
      "cell_type": "markdown",
      "metadata": {
        "id": "7MgrLpv3jkfS"
      },
      "source": [
        "### Yeo7 networks"
      ]
    },
    {
      "cell_type": "code",
      "execution_count": 24,
      "metadata": {
        "colab": {
          "base_uri": "https://localhost:8080/"
        },
        "id": "yxclqdTyjleN",
        "outputId": "7399944e-e282-414e-eef9-4330fcf7a78d"
      },
      "outputs": [
        {
          "data": {
            "text/plain": [
              "(32492,)"
            ]
          },
          "execution_count": 24,
          "metadata": {},
          "output_type": "execute_result"
        }
      ],
      "source": [
        "# yeo7L = nib.gifti.read(templates_path+'/hcp.RSN.L.gii').darrays[0].data\n",
        "yeo7L = nib.load(templates_marguilies+'/hcp.RSN.L.gii').darrays[0].data\n",
        "yeo7R = nib.load(templates_marguilies+'/hcp.RSN.R.gii').darrays[0].data\n",
        "# yeo17L = nib.load(templates_path+'/hcp.RSN.L.gii').darrays[1].data\n",
        "# yeo17R = nib.load(templates_path+'/hcp.RSN.R.gii').darrays[1].data"
      ]
    },
    {
      "cell_type": "code",
      "execution_count": 27,
      "metadata": {
        "colab": {
          "base_uri": "https://localhost:8080/"
        },
        "id": "m-oA-MGXhnK6",
        "outputId": "c0897705-34f3-4b63-f3db-98a3618f4165"
      },
      "outputs": [
        {
          "data": {
            "text/plain": [
              "(18715,)"
            ]
          },
          "execution_count": 27,
          "metadata": {},
          "output_type": "execute_result"
        }
      ],
      "source": [
        "# Load Freesurfer fsaverage surface with read_label : return array with indices of vertices included in label\n",
        "lab_lh = nib.freesurfer.read_label(templates_path+'/lh.cortex.label') #shape = (9361,)\n",
        "lab_rh = 10242 + nib.freesurfer.read_label(templates_path+'/rh.cortex.label') #shape = (9361,)\n",
        "lab= np.concatenate((lab_lh,lab_rh))"
      ]
    },
    {
      "cell_type": "code",
      "execution_count": 56,
      "metadata": {
        "id": "y1ci1AJ-jzxg"
      },
      "outputs": [
        {
          "name": "stderr",
          "output_type": "stream",
          "text": [
            "/tmp/ipykernel_2963347/2922213603.py:81: DeprecationWarning: get_data() is deprecated in favor of get_fdata(), which has a more predictable return type. To obtain get_data() behavior going forward, use numpy.asanyarray(img.dataobj).\n",
            "\n",
            "* deprecated from version: 3.0\n",
            "* Will raise <class 'nibabel.deprecator.ExpiredDeprecationError'> as of version: 5.0\n",
            "  yeoV7_1 = nibabel.Nifti1Image((yeoV7.get_data() == convertYeo7[ord[x]] + 1).astype(int), yeoV7.get_affine())\n",
            "/tmp/ipykernel_2963347/2922213603.py:81: DeprecationWarning: get_affine method is deprecated.\n",
            "Please use the ``img.affine`` property instead.\n",
            "\n",
            "* deprecated from version: 2.1\n",
            "* Will raise <class 'nibabel.deprecator.ExpiredDeprecationError'> as of version: 4.0\n",
            "  yeoV7_1 = nibabel.Nifti1Image((yeoV7.get_data() == convertYeo7[ord[x]] + 1).astype(int), yeoV7.get_affine())\n",
            "/tmp/ipykernel_2963347/2922213603.py:81: DeprecationWarning: get_data() is deprecated in favor of get_fdata(), which has a more predictable return type. To obtain get_data() behavior going forward, use numpy.asanyarray(img.dataobj).\n",
            "\n",
            "* deprecated from version: 3.0\n",
            "* Will raise <class 'nibabel.deprecator.ExpiredDeprecationError'> as of version: 5.0\n",
            "  yeoV7_1 = nibabel.Nifti1Image((yeoV7.get_data() == convertYeo7[ord[x]] + 1).astype(int), yeoV7.get_affine())\n",
            "/tmp/ipykernel_2963347/2922213603.py:81: DeprecationWarning: get_affine method is deprecated.\n",
            "Please use the ``img.affine`` property instead.\n",
            "\n",
            "* deprecated from version: 2.1\n",
            "* Will raise <class 'nibabel.deprecator.ExpiredDeprecationError'> as of version: 4.0\n",
            "  yeoV7_1 = nibabel.Nifti1Image((yeoV7.get_data() == convertYeo7[ord[x]] + 1).astype(int), yeoV7.get_affine())\n",
            "/tmp/ipykernel_2963347/2922213603.py:81: DeprecationWarning: get_data() is deprecated in favor of get_fdata(), which has a more predictable return type. To obtain get_data() behavior going forward, use numpy.asanyarray(img.dataobj).\n",
            "\n",
            "* deprecated from version: 3.0\n",
            "* Will raise <class 'nibabel.deprecator.ExpiredDeprecationError'> as of version: 5.0\n",
            "  yeoV7_1 = nibabel.Nifti1Image((yeoV7.get_data() == convertYeo7[ord[x]] + 1).astype(int), yeoV7.get_affine())\n",
            "/tmp/ipykernel_2963347/2922213603.py:81: DeprecationWarning: get_affine method is deprecated.\n",
            "Please use the ``img.affine`` property instead.\n",
            "\n",
            "* deprecated from version: 2.1\n",
            "* Will raise <class 'nibabel.deprecator.ExpiredDeprecationError'> as of version: 4.0\n",
            "  yeoV7_1 = nibabel.Nifti1Image((yeoV7.get_data() == convertYeo7[ord[x]] + 1).astype(int), yeoV7.get_affine())\n"
          ]
        }
      ],
      "source": [
        "from PIL import Image\n",
        "from IPython.display import Image as im\n",
        "\n",
        "for condition in ['control','meditation','hypnose']:\n",
        "\n",
        "    emb = np.mean(embeddings[condition],axis=0) #average across subjects\n",
        "\n",
        "\n",
        "    # yeo7 = np.concatenate((yeo7L[cortL], yeo7L[cortR]))\n",
        "    yeo7 = np.concatenate((yeo7L[lab_lh], yeo7L[lab_rh]))\n",
        "    uniqueY = np.array(np.unique(yeo7), dtype=np.int32)[1::]\n",
        "    sz = len(uniqueY) #7 (corresponds to length network)\n",
        "    rsns={}\n",
        "    for c in range(sz): #creates dictionnary\n",
        "        rsns['k'+str(int(c)+1)]=[]\n",
        "\n",
        "    r = []     \n",
        "\n",
        "    for x in range(sz):\n",
        "        # g = emb[np.where(yeo7 == uniqueY[x]),0]\n",
        "        g = emb[np.where(yeo7 == uniqueY[x])]\n",
        "        # for y in g[0]:\n",
        "        for y in g:\n",
        "            if y != 0:\n",
        "                rsns['k'+str(int(x)+1)].append(float(y))\n",
        "        r.append(np.mean(rsns['k'+str(int(x)+1)]))\n",
        "\n",
        "    ord = np.argsort(r)\n",
        "\n",
        "    plot_list=[]\n",
        "    for c in range(sz):    \n",
        "        plot_list+=[np.squeeze(rsns['k'+str(ord[c]+1)])]\n",
        "\n",
        "    names=[]\n",
        "    for c in range(sz):\n",
        "        names.append(str(int(ord[c])+1))\n",
        "\n",
        "    convertYeo7 = [2,5,6,0,4,1,3] \n",
        "    cols7 = ((255,255,255),\n",
        "            (120,  18, 134),\n",
        "            (70 ,130, 180),\n",
        "            ( 0 ,118 , 14),\n",
        "            (196 , 58 ,250),\n",
        "            (220 ,248 ,164),\n",
        "            (230, 148,  34),\n",
        "            (205 , 62,  78 ))\n",
        "    cols = cols7\n",
        "    cols = np.asarray(cols, dtype=float)/255\n",
        "    yeoCols = ListedColormap(cols,name='colormapYeo')\n",
        "\n",
        "    colors1 = list()\n",
        "    for i in range(0,len(ord)):\n",
        "        colors1.append(tuple(cols[convertYeo7[ord[i]] + 1]))\n",
        "\n",
        "    height=10\n",
        "    sns.set_context('notebook', font_scale=1.8)\n",
        "    sns.axes_style(\"white\")\n",
        "    sns.set_style(\"white\")\n",
        "    sns.set_palette(colors1)\n",
        "\n",
        "    fig = plt.figure(figsize=(20,height))\n",
        "    ax = sns.boxplot(data=plot_list, saturation=0.5, orient='h', showfliers=False) #flierprops=None)#dict(marker='', markersize=0, \n",
        "                                                                                #color=\"white\", markeredgecolor=\"white\"))\n",
        "    ax.set_yticklabels('')\n",
        "    ax.set(xlabel='Gradient Values ({} condition)'.format(condition))\n",
        "    sns.axes_style(\"white\")\n",
        "    # sns.axlabel('Gradient Values','', fontsize=22)\n",
        "    #ax.xlabel('Gradient Values','', fontsize=22)\n",
        "    # plt.savefig('gradient_data/figures/yeo_dist_plot.pdf')\n",
        "    # plt.savefig('gradient_data/figures/yeo_dist_plot.png')\n",
        "    plt.savefig('yeo_dist_plot_{}.pdf'.format(condition))\n",
        "    plt.savefig('yeo_dist_plot_{}.png'.format(condition))\n",
        "    plt.close(fig)\n",
        "\n",
        "    fig, axarr = plt.subplots(nrows=sz, ncols=1, figsize=(2*(20/sz),height))\n",
        "    data = datasets.fetch_atlas_yeo_2011(data_dir='gradient_data/templates/')\n",
        "    yeoV7 = nibabel.load(data.thick_7)\n",
        "    y = 0\n",
        "\n",
        "    for x in range(sz):\n",
        "        yeoV7_1 = nibabel.Nifti1Image((yeoV7.get_data() == convertYeo7[ord[x]] + 1).astype(int), yeoV7.get_affine())     \n",
        "        yeoCols = ListedColormap(cols[[0,convertYeo7[ord[x]] + 1]],name='colormapYeo')\n",
        "        plotting.plot_glass_brain(yeoV7_1, axes=axarr[x], annotate=False, alpha=0.3, cmap=yeoCols, threshold=0.1, \n",
        "                            output_file='yeo_brains_{}.png'.format(condition))\n",
        "        y += 1\n",
        "\n",
        "\n",
        "    i1 = Image.open('yeo_dist_plot_{}.png'.format(condition))\n",
        "    i2 = Image.open('yeo_brains_{}.png'.format(condition))\n",
        "    result = Image.new(\"RGBA\", (np.shape(i1)[1]+50, np.shape(i1)[0]))\n",
        "    result.paste(i1, (120, 0))\n",
        "    result.paste(i2, (0, 0))\n",
        "    result.save('Yeo7_{}.png'.format(condition))\n",
        "\n",
        "\n",
        "\n",
        "    im(filename='Yeo7_{}.png'.format(condition))"
      ]
    },
    {
      "cell_type": "code",
      "execution_count": 347,
      "metadata": {
        "colab": {
          "base_uri": "https://localhost:8080/"
        },
        "id": "B8KY3QnpyDYy",
        "outputId": "36b5a019-b520-4b22-9a0d-e5b7b58d677c"
      },
      "outputs": [
        {
          "name": "stderr",
          "output_type": "stream",
          "text": [
            "/usr/local/lib/python3.7/dist-packages/nilearn/regions/region_extractor.py:546: UserWarning: Data array used to create a new image contains 64-bit ints. This is likely due to creating the array with numpy and passing `int` as the `dtype`. Many tools such as FSL and SPM cannot deal with int64 in Nifti images, so for compatibility the data has been converted to int32.\n",
            "  new_labels_img = new_img_like(labels_img, new_labels_data, affine=affine)\n"
          ]
        },
        {
          "data": {
            "text/plain": [
              "<nibabel.nifti1.Nifti1Image at 0x7f802b55f290>"
            ]
          },
          "execution_count": 347,
          "metadata": {},
          "output_type": "execute_result"
        }
      ],
      "source": [
        "atlas_yeo_2011 = datasets.fetch_atlas_yeo_2011()\n",
        "atlas_yeo = atlas_yeo_2011.thick_7\n",
        "atlas_yeo\n",
        "from nilearn.regions import connected_label_regions\n",
        "region_labels = connected_label_regions(atlas_yeo)\n",
        "region_labels"
      ]
    }
  ],
  "metadata": {
    "colab": {
      "collapsed_sections": [],
      "provenance": []
    },
    "kernelspec": {
      "display_name": "Python 3.9.12 ('base': conda)",
      "language": "python",
      "name": "python3"
    },
    "language_info": {
      "codemirror_mode": {
        "name": "ipython",
        "version": 3
      },
      "file_extension": ".py",
      "mimetype": "text/x-python",
      "name": "python",
      "nbconvert_exporter": "python",
      "pygments_lexer": "ipython3",
      "version": "3.9.12"
    },
    "vscode": {
      "interpreter": {
        "hash": "8a94b534355f7828d9e38980e0a67a548ea07a966ec4471804bc83b5c8de6faf"
      }
    }
  },
  "nbformat": 4,
  "nbformat_minor": 0
}
